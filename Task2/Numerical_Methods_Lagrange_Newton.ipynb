{
  "nbformat": 4,
  "nbformat_minor": 0,
  "metadata": {
    "colab": {
      "name": "Vakhitov Numerical Methods Lagrange Newton",
      "provenance": [],
      "collapsed_sections": []
    },
    "kernelspec": {
      "name": "python3",
      "display_name": "Python 3"
    },
    "language_info": {
      "name": "python"
    }
  },
  "cells": [
    {
      "cell_type": "markdown",
      "metadata": {
        "id": "CqEytHtufEHX"
      },
      "source": [
        "**Вахитов Булат 308 группа**"
      ]
    },
    {
      "cell_type": "code",
      "metadata": {
        "id": "mbFsantocZuC"
      },
      "source": [
        "import math\n",
        "import numpy as np\n",
        "import matplotlib.pyplot as plt"
      ],
      "execution_count": null,
      "outputs": []
    },
    {
      "cell_type": "code",
      "metadata": {
        "id": "NImSpvbOcj44"
      },
      "source": [
        "a = 0\n",
        "b = 5\n",
        "\n",
        "def f(x):\n",
        "    return math.sqrt(x) + math.cos(x)"
      ],
      "execution_count": null,
      "outputs": []
    },
    {
      "cell_type": "code",
      "metadata": {
        "id": "dUyTCYQFcmWQ"
      },
      "source": [
        "def generate_intervals(knots, opt=False):\n",
        "\n",
        "    if opt:\n",
        "        x_opt_internal = []\n",
        "        for i in range(knots):\n",
        "            x_i_opt = ((b - a) * math.cos((2 * i + 1) * math.pi / (2 * knots + 2)) + b + a) / 2\n",
        "            x_opt_internal.append(x_i_opt)\n",
        "\n",
        "        y_opt_internal = []\n",
        "        for x_i_opt in x_opt_internal:\n",
        "            y_opt_internal.append(f(x_i_opt))\n",
        "        return x_opt_internal, y_opt_internal\n",
        "    else:\n",
        "        x_internal = np.linspace(a, b, knots)\n",
        "        y_internal = []\n",
        "        for x_i in x_internal:\n",
        "            y_internal.append(f(x_i))\n",
        "        return x_internal.tolist(), y_internal"
      ],
      "execution_count": null,
      "outputs": []
    },
    {
      "cell_type": "code",
      "metadata": {
        "id": "yd5dcP5kcuhK"
      },
      "source": [
        "def get_separated_differences(knots, opt=False):\n",
        "    x, y = generate_intervals(knots, opt)\n",
        "    \n",
        "    f_sep_diff = []\n",
        "    f_sep_diff.append(y[0])\n",
        "    for k in range(2, knots + 1):\n",
        "        g = []\n",
        "        for i in range(k):\n",
        "            g_i = 1\n",
        "            for j in range(k):\n",
        "                if i != j:\n",
        "                    g_i = g_i * (x[i] - x[j])\n",
        "            g_i = 1 / g_i\n",
        "            g.append(g_i)\n",
        "\n",
        "        f_k = 0\n",
        "        for i in range(len(g)):\n",
        "            f_k = f_k + g[i] * y[i]\n",
        "        f_sep_diff.append(f_k)\n",
        "    return f_sep_diff"
      ],
      "execution_count": null,
      "outputs": []
    },
    {
      "cell_type": "code",
      "metadata": {
        "id": "fRdT6Sqbcvmh"
      },
      "source": [
        "def Newton(x_input, knots, opt=False):\n",
        "    diff = get_separated_differences(knots, opt)\n",
        "\n",
        "    x, y = generate_intervals(knots, opt)\n",
        "    func = 0\n",
        "    for i in range(len(diff)):\n",
        "        temp = diff[i]\n",
        "        for j in range(0, i):\n",
        "            temp = temp * (x_input - x[j])\n",
        "        func += temp\n",
        "    return func"
      ],
      "execution_count": null,
      "outputs": []
    },
    {
      "cell_type": "code",
      "metadata": {
        "id": "hWh1wSCfhOon"
      },
      "source": [
        "def Lagrange(x_input, knots, opt):\n",
        "    x, y = generate_intervals(knots, opt)\n",
        "\n",
        "    func = 0\n",
        "    for k in range(knots):\n",
        "        lagrange_factor = 1\n",
        "        for i in range(knots):\n",
        "            if i != k:\n",
        "                lagrange_factor = lagrange_factor * (x_input - x[i]) / (x[k] - x[i])\n",
        "        func = func + lagrange_factor * f(x[k])\n",
        "    return func"
      ],
      "execution_count": null,
      "outputs": []
    },
    {
      "cell_type": "code",
      "metadata": {
        "id": "rSsgxwxwc1PZ"
      },
      "source": [
        "def maximum_deviation_newton(knots, opt, m):\n",
        "    x_test = np.linspace(a, b, m)\n",
        "    differences = []\n",
        "    for x_i in x_test:\n",
        "        differences.append(abs(f(x_i) - Newton(x_i, knots, opt=opt)))\n",
        "        #print('F(x) = ', f(x_i), ' ', 'N(x) = ', Newton(x_i, knots, opt=opt), 'x = ', x_i)\n",
        "    return max(differences)"
      ],
      "execution_count": null,
      "outputs": []
    },
    {
      "cell_type": "code",
      "metadata": {
        "id": "qoOFhwa1v0At"
      },
      "source": [
        "def maximum_deviation_lagrange(knots, opt, m):\n",
        "    x_test = np.linspace(a, b, m)\n",
        "    differences = []\n",
        "    for x_i in x_test:\n",
        "        differences.append(abs(f(x_i) - Lagrange(x_i, knots, opt=opt)))\n",
        "        #print('F(x) = ', f(x_i), ' ', 'L(x) = ', Lagrange(x_i, knots, opt=opt), 'x = ', x_i)\n",
        "    return max(differences)"
      ],
      "execution_count": null,
      "outputs": []
    },
    {
      "cell_type": "code",
      "metadata": {
        "colab": {
          "base_uri": "https://localhost:8080/",
          "height": 607
        },
        "id": "YVf7grfvdcjC",
        "outputId": "f0caa5e5-fb42-42a0-90e2-7b492f1f4522"
      },
      "source": [
        "NUMBER_OF_KNOTS = [2, 4, 7, 9]\n",
        "opt = False\n",
        "m = 20\n",
        "\n",
        "x_test = np.linspace(a, b, m)\n",
        "y_true = [f(x) for x in x_test]\n",
        "\n",
        "\n",
        "fig, axes = plt.subplots(1, len(NUMBER_OF_KNOTS))\n",
        "fig.set_size_inches(20, 10)\n",
        "for i in range(len(NUMBER_OF_KNOTS)):\n",
        "  y_predicted = [Lagrange(x, NUMBER_OF_KNOTS[i], opt=opt) for x in x_test]\n",
        "  axes[i].plot(x_test, y_true, label = \"f(x)\")\n",
        "  axes[i].plot(x_test, y_predicted, label = \"Lagrange(x) {} knots\".format(NUMBER_OF_KNOTS[i]))\n",
        "  axes[i].legend()\n",
        "  axes[i].grid()\n",
        "  axes[i].set_title('{knots} knots, opt={opt}'.format(knots=NUMBER_OF_KNOTS[i], opt=opt))\n",
        "\n"
      ],
      "execution_count": null,
      "outputs": [
        {
          "output_type": "display_data",
          "data": {
            "image/png": "[encoded data removed]",
            "text/plain": [
              "<Figure size 1440x720 with 4 Axes>"
            ]
          },
          "metadata": {
            "needs_background": "light"
          }
        }
      ]
    },
    {
      "cell_type": "code",
      "metadata": {
        "colab": {
          "base_uri": "https://localhost:8080/"
        },
        "id": "GCySNUSdwuLm",
        "outputId": "4f111503-695b-4329-82e9-bb1ad5026772"
      },
      "source": [
        "#Lagrange\n",
        "deviation_lagrange = []\n",
        "deviation_opt_lagrange = []\n",
        "m = 30\n",
        "\n",
        "for i in range(2, 11):\n",
        "    deviation_lagrange.append(maximum_deviation_lagrange(i, False, m))\n",
        "    deviation_opt_lagrange.append(maximum_deviation_lagrange(i, True, m))\n",
        "  \n",
        "print(deviation_lagrange)\n",
        "print(deviation_opt_lagrange)"
      ],
      "execution_count": null,
      "outputs": [
        {
          "output_type": "stream",
          "name": "stdout",
          "text": [
            "[1.180892723688718, 0.8765822244451635, 0.3169248341800215, 0.14666947681641185, 0.14776926733321316, 0.13268518398065976, 0.10745657256685259, 0.08793367125527274, 0.07230221783957003]\n",
            "[2.0748436799051397, 2.5376238991671913, 1.7195504133039194, 0.11637684889585675, 0.19226679274412684, 0.31135695973345356, 0.259941683790716, 0.22626140265417494, 0.20573879886983537]\n"
          ]
        }
      ]
    },
    {
      "cell_type": "code",
      "metadata": {
        "colab": {
          "base_uri": "https://localhost:8080/"
        },
        "id": "POsBoG7HBsH7",
        "outputId": "38d37fa9-1b0c-4f8d-8dde-f01f9ec2cc22"
      },
      "source": [
        "#Newton\n",
        "deviation_newton = []\n",
        "deviation_opt_newton = []\n",
        "m = 30\n",
        "\n",
        "for i in range(2, 11):\n",
        "    deviation_newton.append(maximum_deviation_newton(i, False, m))\n",
        "    deviation_opt_newton.append(maximum_deviation_newton(i, True, m))\n",
        "  \n",
        "print(deviation_newton)\n",
        "print(deviation_opt_newton)"
      ],
      "execution_count": null,
      "outputs": [
        {
          "output_type": "stream",
          "name": "stdout",
          "text": [
            "[1.180892723688718, 0.8765822244451636, 0.3169248341800217, 0.1466694768164114, 0.1477692673332125, 0.13268518398065976, 0.10745657256685215, 0.0879336712552714, 0.07230221783957091]\n",
            "[2.0748436799051397, 2.5376238991671936, 1.7195504133039163, 0.11637684889586297, 0.1922667927441284, 0.3113569597335222, 0.25994168379071003, 0.2262614026541938, 0.20573879886936552]\n"
          ]
        }
      ]
    },
    {
      "cell_type": "code",
      "metadata": {
        "colab": {
          "base_uri": "https://localhost:8080/",
          "height": 331
        },
        "id": "_1LKUv-mZfnE",
        "outputId": "667f878d-cb1c-4883-c140-351587c5fdf3"
      },
      "source": [
        "import pandas as pd\n",
        "\n",
        "knots = list(range(2, 11))\n",
        "test_points = [m] * 9\n",
        "\n",
        "df_lagrange = pd.DataFrame(list(zip(knots, test_points, deviation_lagrange, deviation_opt_lagrange)), \n",
        "                  columns=['Количество узлов', 'Количество проверочных точек', 'Максимальное отклонение RL', 'Максимальное отклонение RLopt '])\n",
        "df_lagrange"
      ],
      "execution_count": null,
      "outputs": [
        {
          "output_type": "execute_result",
          "data": {
            "text/html": [
              "<div>\n",
              "<style scoped>\n",
              "    .dataframe tbody tr th:only-of-type {\n",
              "        vertical-align: middle;\n",
              "    }\n",
              "\n",
              "    .dataframe tbody tr th {\n",
              "        vertical-align: top;\n",
              "    }\n",
              "\n",
              "    .dataframe thead th {\n",
              "        text-align: right;\n",
              "    }\n",
              "</style>\n",
              "<table border=\"1\" class=\"dataframe\">\n",
              "  <thead>\n",
              "    <tr style=\"text-align: right;\">\n",
              "      <th></th>\n",
              "      <th>Количество узлов</th>\n",
              "      <th>Количество проверочных точек</th>\n",
              "      <th>Максимальное отклонение RL</th>\n",
              "      <th>Максимальное отклонение RLopt</th>\n",
              "    </tr>\n",
              "  </thead>\n",
              "  <tbody>\n",
              "    <tr>\n",
              "      <th>0</th>\n",
              "      <td>2</td>\n",
              "      <td>30</td>\n",
              "      <td>1.180893</td>\n",
              "      <td>2.074844</td>\n",
              "    </tr>\n",
              "    <tr>\n",
              "      <th>1</th>\n",
              "      <td>3</td>\n",
              "      <td>30</td>\n",
              "      <td>0.876582</td>\n",
              "      <td>2.537624</td>\n",
              "    </tr>\n",
              "    <tr>\n",
              "      <th>2</th>\n",
              "      <td>4</td>\n",
              "      <td>30</td>\n",
              "      <td>0.316925</td>\n",
              "      <td>1.719550</td>\n",
              "    </tr>\n",
              "    <tr>\n",
              "      <th>3</th>\n",
              "      <td>5</td>\n",
              "      <td>30</td>\n",
              "      <td>0.146669</td>\n",
              "      <td>0.116377</td>\n",
              "    </tr>\n",
              "    <tr>\n",
              "      <th>4</th>\n",
              "      <td>6</td>\n",
              "      <td>30</td>\n",
              "      <td>0.147769</td>\n",
              "      <td>0.192267</td>\n",
              "    </tr>\n",
              "    <tr>\n",
              "      <th>5</th>\n",
              "      <td>7</td>\n",
              "      <td>30</td>\n",
              "      <td>0.132685</td>\n",
              "      <td>0.311357</td>\n",
              "    </tr>\n",
              "    <tr>\n",
              "      <th>6</th>\n",
              "      <td>8</td>\n",
              "      <td>30</td>\n",
              "      <td>0.107457</td>\n",
              "      <td>0.259942</td>\n",
              "    </tr>\n",
              "    <tr>\n",
              "      <th>7</th>\n",
              "      <td>9</td>\n",
              "      <td>30</td>\n",
              "      <td>0.087934</td>\n",
              "      <td>0.226261</td>\n",
              "    </tr>\n",
              "    <tr>\n",
              "      <th>8</th>\n",
              "      <td>10</td>\n",
              "      <td>30</td>\n",
              "      <td>0.072302</td>\n",
              "      <td>0.205739</td>\n",
              "    </tr>\n",
              "  </tbody>\n",
              "</table>\n",
              "</div>"
            ],
            "text/plain": [
              "   Количество узлов  ...  Максимальное отклонение RLopt \n",
              "0                 2  ...                        2.074844\n",
              "1                 3  ...                        2.537624\n",
              "2                 4  ...                        1.719550\n",
              "3                 5  ...                        0.116377\n",
              "4                 6  ...                        0.192267\n",
              "5                 7  ...                        0.311357\n",
              "6                 8  ...                        0.259942\n",
              "7                 9  ...                        0.226261\n",
              "8                10  ...                        0.205739\n",
              "\n",
              "[9 rows x 4 columns]"
            ]
          },
          "metadata": {},
          "execution_count": 12
        }
      ]
    },
    {
      "cell_type": "code",
      "metadata": {
        "colab": {
          "base_uri": "https://localhost:8080/",
          "height": 331
        },
        "id": "OxhQsrONbYSw",
        "outputId": "2f081319-bb5d-4951-a14e-db732130adcf"
      },
      "source": [
        "knots = list(range(2, 11))\n",
        "test_points = [m] * 9\n",
        "\n",
        "df_newton = pd.DataFrame(list(zip(knots, test_points, deviation_newton, deviation_opt_newton)), \n",
        "                  columns=['Количество узлов', 'Количество проверочных точек', 'Максимальное отклонение RL', 'Максимальное отклонение RLopt '])\n",
        "df_newton"
      ],
      "execution_count": null,
      "outputs": [
        {
          "output_type": "execute_result",
          "data": {
            "text/html": [
              "<div>\n",
              "<style scoped>\n",
              "    .dataframe tbody tr th:only-of-type {\n",
              "        vertical-align: middle;\n",
              "    }\n",
              "\n",
              "    .dataframe tbody tr th {\n",
              "        vertical-align: top;\n",
              "    }\n",
              "\n",
              "    .dataframe thead th {\n",
              "        text-align: right;\n",
              "    }\n",
              "</style>\n",
              "<table border=\"1\" class=\"dataframe\">\n",
              "  <thead>\n",
              "    <tr style=\"text-align: right;\">\n",
              "      <th></th>\n",
              "      <th>Количество узлов</th>\n",
              "      <th>Количество проверочных точек</th>\n",
              "      <th>Максимальное отклонение RL</th>\n",
              "      <th>Максимальное отклонение RLopt</th>\n",
              "    </tr>\n",
              "  </thead>\n",
              "  <tbody>\n",
              "    <tr>\n",
              "      <th>0</th>\n",
              "      <td>2</td>\n",
              "      <td>30</td>\n",
              "      <td>1.180893</td>\n",
              "      <td>2.074844</td>\n",
              "    </tr>\n",
              "    <tr>\n",
              "      <th>1</th>\n",
              "      <td>3</td>\n",
              "      <td>30</td>\n",
              "      <td>0.876582</td>\n",
              "      <td>2.537624</td>\n",
              "    </tr>\n",
              "    <tr>\n",
              "      <th>2</th>\n",
              "      <td>4</td>\n",
              "      <td>30</td>\n",
              "      <td>0.316925</td>\n",
              "      <td>1.719550</td>\n",
              "    </tr>\n",
              "    <tr>\n",
              "      <th>3</th>\n",
              "      <td>5</td>\n",
              "      <td>30</td>\n",
              "      <td>0.146669</td>\n",
              "      <td>0.116377</td>\n",
              "    </tr>\n",
              "    <tr>\n",
              "      <th>4</th>\n",
              "      <td>6</td>\n",
              "      <td>30</td>\n",
              "      <td>0.147769</td>\n",
              "      <td>0.192267</td>\n",
              "    </tr>\n",
              "    <tr>\n",
              "      <th>5</th>\n",
              "      <td>7</td>\n",
              "      <td>30</td>\n",
              "      <td>0.132685</td>\n",
              "      <td>0.311357</td>\n",
              "    </tr>\n",
              "    <tr>\n",
              "      <th>6</th>\n",
              "      <td>8</td>\n",
              "      <td>30</td>\n",
              "      <td>0.107457</td>\n",
              "      <td>0.259942</td>\n",
              "    </tr>\n",
              "    <tr>\n",
              "      <th>7</th>\n",
              "      <td>9</td>\n",
              "      <td>30</td>\n",
              "      <td>0.087934</td>\n",
              "      <td>0.226261</td>\n",
              "    </tr>\n",
              "    <tr>\n",
              "      <th>8</th>\n",
              "      <td>10</td>\n",
              "      <td>30</td>\n",
              "      <td>0.072302</td>\n",
              "      <td>0.205739</td>\n",
              "    </tr>\n",
              "  </tbody>\n",
              "</table>\n",
              "</div>"
            ],
            "text/plain": [
              "   Количество узлов  ...  Максимальное отклонение RLopt \n",
              "0                 2  ...                        2.074844\n",
              "1                 3  ...                        2.537624\n",
              "2                 4  ...                        1.719550\n",
              "3                 5  ...                        0.116377\n",
              "4                 6  ...                        0.192267\n",
              "5                 7  ...                        0.311357\n",
              "6                 8  ...                        0.259942\n",
              "7                 9  ...                        0.226261\n",
              "8                10  ...                        0.205739\n",
              "\n",
              "[9 rows x 4 columns]"
            ]
          },
          "metadata": {},
          "execution_count": 13
        }
      ]
    }
  ]
}